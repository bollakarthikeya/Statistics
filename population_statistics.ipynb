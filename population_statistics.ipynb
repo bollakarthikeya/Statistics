{
 "cells": [
  {
   "cell_type": "markdown",
   "metadata": {},
   "source": [
    "# Population"
   ]
  },
  {
   "cell_type": "markdown",
   "metadata": {},
   "source": [
    "_Reference_:\n",
    "1. Pg. 200 - 202, _John A. Rice_, Mathematical Statistics and Data Analysis, $3^{rd}$ Edition \n",
    "2. Weisstein, Eric W. \"Population.\" From MathWorld--A Wolfram Web Resource. http://mathworld.wolfram.com/Population.html "
   ]
  },
  {
   "cell_type": "markdown",
   "metadata": {},
   "source": [
    "**Statistical Population** as defined in Wolfram MathWorld is _a finite and actually existing group of objects which, although possibly large, can be enumerated in theory (e.g., people living in the United States)._ <br>\n",
    "\n",
    "We will assume that the population is of finite size _**N**_ and there is a numerical value of interest associated with each element of the population. Let the numerical values be represented as $x_{1}$, $x_{2}$, $x_{3}$, $x_{4}$, ..... $x_{N}$. <br><br> Let us understand some of the population statistics"
   ]
  },
  {
   "cell_type": "markdown",
   "metadata": {},
   "source": [
    "### 1. Population Mean"
   ]
  },
  {
   "cell_type": "markdown",
   "metadata": {},
   "source": [
    "**Population Mean** or **average** is represented by $\\mu$ and is defined as <br><br>\n",
    "$$ \\mu = \\frac{1}{N} \\sum_{i=1}^N x_{i}$$"
   ]
  },
  {
   "cell_type": "markdown",
   "metadata": {},
   "source": [
    "### 2. Population Variance\n"
   ]
  },
  {
   "cell_type": "markdown",
   "metadata": {},
   "source": [
    "**Population Variance** represented by $\\sigma^{2}$ is defined as <br><br>\n",
    "\n",
    "$$ \\sigma^{2} = \\frac{1}{N} \\sum_{i=1}^N \\left( x_{i} - \\mu \\right)^{2}$$ <br><br>\n",
    "\n",
    "The above expression when expanded results in <br><br>\n",
    "\n",
    "$$ \\sigma^{2} = \\frac{1}{N} \\sum_{i=1}^N x_{i}^{2} - \\mu^{2} $$"
   ]
  },
  {
   "cell_type": "markdown",
   "metadata": {},
   "source": [
    "### 3. Population Standard Deviation"
   ]
  },
  {
   "cell_type": "markdown",
   "metadata": {},
   "source": [
    "**Population Standard Deviation** is the square root of Population Variance"
   ]
  },
  {
   "cell_type": "markdown",
   "metadata": {},
   "source": [
    "---\n",
    "Note: \n",
    "---\n",
    "In real-world scenarios, we will not have the entire population available but only sample of the population."
   ]
  },
  {
   "cell_type": "markdown",
   "metadata": {},
   "source": [
    "### 3. Example"
   ]
  },
  {
   "cell_type": "markdown",
   "metadata": {},
   "source": [
    "To understand poulation mean and population variance, let us use a sample dataset and work on calculations. Here, we will be using **Istanbul Stock Exchange** dataset. The dataset is available on UCI Machine Learning Repository https://archive.ics.uci.edu/ml/datasets/ISTANBUL+STOCK+EXCHANGE. Data description can be found at https://www2.1010data.com/documentationcenter/beta/Tutorials/MachineLearningExamples/IstanbulDataSet.html"
   ]
  },
  {
   "cell_type": "markdown",
   "metadata": {},
   "source": [
    "#### Load necessary libraries"
   ]
  },
  {
   "cell_type": "code",
   "execution_count": 10,
   "metadata": {},
   "outputs": [],
   "source": [
    "import pandas as pd\n",
    "import numpy as np\n",
    "import matplotlib.pyplot as plt\n",
    "%matplotlib inline"
   ]
  },
  {
   "cell_type": "markdown",
   "metadata": {},
   "source": [
    "#### Read the data"
   ]
  },
  {
   "cell_type": "code",
   "execution_count": 17,
   "metadata": {},
   "outputs": [
    {
     "name": "stdout",
     "output_type": "stream",
     "text": [
      "date        object\n",
      "ISE1       float64\n",
      "ISE2       float64\n",
      "SP         float64\n",
      "DAX        float64\n",
      "FTSE       float64\n",
      "NIKKEI     float64\n",
      "BOVESPA    float64\n",
      "EU         float64\n",
      "EM         float64\n",
      "dtype: object \n",
      "\n"
     ]
    }
   ],
   "source": [
    "# read data into a dataframe\n",
    "istanbul_df = pd.read_csv('data/istanbul_stock_exchange.csv', sep = ',')\n",
    "\n",
    "# attributes (columns) in the dataset along with their data types\n",
    "print(istanbul_df.dtypes, '\\n')"
   ]
  },
  {
   "cell_type": "code",
   "execution_count": 18,
   "metadata": {},
   "outputs": [
    {
     "name": "stdout",
     "output_type": "stream",
     "text": [
      "       date      ISE1      ISE2        SP       DAX      FTSE    NIKKEI  \\\n",
      "0  5-Jan-09  0.035754  0.038376 -0.004679  0.002193  0.003894  0.000000   \n",
      "1  6-Jan-09  0.025426  0.031813  0.007787  0.008455  0.012866  0.004162   \n",
      "2  7-Jan-09 -0.028862 -0.026353 -0.030469 -0.017833 -0.028735  0.017293   \n",
      "3  8-Jan-09 -0.062208 -0.084716  0.003391 -0.011726 -0.000466 -0.040061   \n",
      "4  9-Jan-09  0.009860  0.009658 -0.021533 -0.019873 -0.012710 -0.004474   \n",
      "\n",
      "    BOVESPA        EU        EM  \n",
      "0  0.031190  0.012698  0.028524  \n",
      "1  0.018920  0.011341  0.008773  \n",
      "2 -0.035899 -0.017073 -0.020015  \n",
      "3  0.028283 -0.005561 -0.019424  \n",
      "4 -0.009764 -0.010989 -0.007802  \n"
     ]
    }
   ],
   "source": [
    "# let's look at the records\n",
    "print(istanbul_df.head())"
   ]
  },
  {
   "cell_type": "markdown",
   "metadata": {},
   "source": [
    "#### Summary statistics of the dataset"
   ]
  },
  {
   "cell_type": "code",
   "execution_count": 19,
   "metadata": {},
   "outputs": [
    {
     "data": {
      "text/html": [
       "<div>\n",
       "<style scoped>\n",
       "    .dataframe tbody tr th:only-of-type {\n",
       "        vertical-align: middle;\n",
       "    }\n",
       "\n",
       "    .dataframe tbody tr th {\n",
       "        vertical-align: top;\n",
       "    }\n",
       "\n",
       "    .dataframe thead th {\n",
       "        text-align: right;\n",
       "    }\n",
       "</style>\n",
       "<table border=\"1\" class=\"dataframe\">\n",
       "  <thead>\n",
       "    <tr style=\"text-align: right;\">\n",
       "      <th></th>\n",
       "      <th>ISE1</th>\n",
       "      <th>ISE2</th>\n",
       "      <th>SP</th>\n",
       "      <th>DAX</th>\n",
       "      <th>FTSE</th>\n",
       "      <th>NIKKEI</th>\n",
       "      <th>BOVESPA</th>\n",
       "      <th>EU</th>\n",
       "      <th>EM</th>\n",
       "    </tr>\n",
       "  </thead>\n",
       "  <tbody>\n",
       "    <tr>\n",
       "      <th>count</th>\n",
       "      <td>536.000000</td>\n",
       "      <td>536.000000</td>\n",
       "      <td>536.000000</td>\n",
       "      <td>536.000000</td>\n",
       "      <td>536.000000</td>\n",
       "      <td>536.000000</td>\n",
       "      <td>536.000000</td>\n",
       "      <td>536.000000</td>\n",
       "      <td>536.000000</td>\n",
       "    </tr>\n",
       "    <tr>\n",
       "      <th>mean</th>\n",
       "      <td>0.001629</td>\n",
       "      <td>0.001552</td>\n",
       "      <td>0.000643</td>\n",
       "      <td>0.000721</td>\n",
       "      <td>0.000510</td>\n",
       "      <td>0.000308</td>\n",
       "      <td>0.000935</td>\n",
       "      <td>0.000471</td>\n",
       "      <td>0.000936</td>\n",
       "    </tr>\n",
       "    <tr>\n",
       "      <th>std</th>\n",
       "      <td>0.016264</td>\n",
       "      <td>0.021122</td>\n",
       "      <td>0.014093</td>\n",
       "      <td>0.014557</td>\n",
       "      <td>0.012656</td>\n",
       "      <td>0.014850</td>\n",
       "      <td>0.015751</td>\n",
       "      <td>0.012990</td>\n",
       "      <td>0.010501</td>\n",
       "    </tr>\n",
       "    <tr>\n",
       "      <th>min</th>\n",
       "      <td>-0.062208</td>\n",
       "      <td>-0.084716</td>\n",
       "      <td>-0.054262</td>\n",
       "      <td>-0.052331</td>\n",
       "      <td>-0.054816</td>\n",
       "      <td>-0.050448</td>\n",
       "      <td>-0.053849</td>\n",
       "      <td>-0.048817</td>\n",
       "      <td>-0.038564</td>\n",
       "    </tr>\n",
       "    <tr>\n",
       "      <th>25%</th>\n",
       "      <td>-0.006669</td>\n",
       "      <td>-0.009753</td>\n",
       "      <td>-0.004675</td>\n",
       "      <td>-0.006212</td>\n",
       "      <td>-0.005808</td>\n",
       "      <td>-0.007407</td>\n",
       "      <td>-0.007215</td>\n",
       "      <td>-0.005952</td>\n",
       "      <td>-0.004911</td>\n",
       "    </tr>\n",
       "    <tr>\n",
       "      <th>50%</th>\n",
       "      <td>0.002189</td>\n",
       "      <td>0.002643</td>\n",
       "      <td>0.000876</td>\n",
       "      <td>0.000887</td>\n",
       "      <td>0.000409</td>\n",
       "      <td>0.000000</td>\n",
       "      <td>0.000279</td>\n",
       "      <td>0.000196</td>\n",
       "      <td>0.001077</td>\n",
       "    </tr>\n",
       "    <tr>\n",
       "      <th>75%</th>\n",
       "      <td>0.010584</td>\n",
       "      <td>0.013809</td>\n",
       "      <td>0.006706</td>\n",
       "      <td>0.008224</td>\n",
       "      <td>0.007428</td>\n",
       "      <td>0.007882</td>\n",
       "      <td>0.008881</td>\n",
       "      <td>0.007792</td>\n",
       "      <td>0.006423</td>\n",
       "    </tr>\n",
       "    <tr>\n",
       "      <th>max</th>\n",
       "      <td>0.068952</td>\n",
       "      <td>0.100621</td>\n",
       "      <td>0.068366</td>\n",
       "      <td>0.058951</td>\n",
       "      <td>0.050323</td>\n",
       "      <td>0.061229</td>\n",
       "      <td>0.063792</td>\n",
       "      <td>0.067042</td>\n",
       "      <td>0.047805</td>\n",
       "    </tr>\n",
       "  </tbody>\n",
       "</table>\n",
       "</div>"
      ],
      "text/plain": [
       "             ISE1        ISE2          SP         DAX        FTSE      NIKKEI  \\\n",
       "count  536.000000  536.000000  536.000000  536.000000  536.000000  536.000000   \n",
       "mean     0.001629    0.001552    0.000643    0.000721    0.000510    0.000308   \n",
       "std      0.016264    0.021122    0.014093    0.014557    0.012656    0.014850   \n",
       "min     -0.062208   -0.084716   -0.054262   -0.052331   -0.054816   -0.050448   \n",
       "25%     -0.006669   -0.009753   -0.004675   -0.006212   -0.005808   -0.007407   \n",
       "50%      0.002189    0.002643    0.000876    0.000887    0.000409    0.000000   \n",
       "75%      0.010584    0.013809    0.006706    0.008224    0.007428    0.007882   \n",
       "max      0.068952    0.100621    0.068366    0.058951    0.050323    0.061229   \n",
       "\n",
       "          BOVESPA          EU          EM  \n",
       "count  536.000000  536.000000  536.000000  \n",
       "mean     0.000935    0.000471    0.000936  \n",
       "std      0.015751    0.012990    0.010501  \n",
       "min     -0.053849   -0.048817   -0.038564  \n",
       "25%     -0.007215   -0.005952   -0.004911  \n",
       "50%      0.000279    0.000196    0.001077  \n",
       "75%      0.008881    0.007792    0.006423  \n",
       "max      0.063792    0.067042    0.047805  "
      ]
     },
     "execution_count": 19,
     "metadata": {},
     "output_type": "execute_result"
    }
   ],
   "source": [
    "# dataset summary\n",
    "istanbul_df.describe()"
   ]
  },
  {
   "cell_type": "markdown",
   "metadata": {},
   "source": [
    "For simplicity and ease of understanding, we will not be using the entire dataset but returns of The Financial Times Stock Exchange 100 Index which is represented by the column **FTSE**."
   ]
  },
  {
   "cell_type": "code",
   "execution_count": 27,
   "metadata": {},
   "outputs": [
    {
     "name": "stdout",
     "output_type": "stream",
     "text": [
      "       date      FTSE\n",
      "0  5-Jan-09  0.003894\n",
      "1  6-Jan-09  0.012866\n",
      "2  7-Jan-09 -0.028735\n",
      "3  8-Jan-09 -0.000466\n",
      "4  9-Jan-09 -0.012710 \n",
      "\n",
      "             FTSE\n",
      "count  536.000000\n",
      "mean     0.000510\n",
      "std      0.012656\n",
      "min     -0.054816\n",
      "25%     -0.005808\n",
      "50%      0.000409\n",
      "75%      0.007428\n",
      "max      0.050323\n"
     ]
    }
   ],
   "source": [
    "# retrieve returns of FTSE\n",
    "ftse_df = istanbul_df[['date', 'FTSE']]\n",
    "\n",
    "# let's look at some of the returns\n",
    "print(ftse_df.head(), '\\n')\n",
    "\n",
    "# print summary of FTSE\n",
    "print(ftse_df.describe())"
   ]
  },
  {
   "cell_type": "markdown",
   "metadata": {},
   "source": [
    "**Assumption** <br>\n",
    "\n",
    "We will be considering The Financial Times Stock Exchange 100 Index a.k.a FTSE as our Population through the entirety of this notes. Yes, although mentioned earlier that entire population data can never be available in real-world scenarios, we will be making this assumption here for ease of understanding of future calculations."
   ]
  },
  {
   "cell_type": "markdown",
   "metadata": {},
   "source": [
    "Let **FTSE** represent our population of returns of The Financial Times Stock Exchange 100 Index. Let us calculate"
   ]
  },
  {
   "cell_type": "markdown",
   "metadata": {},
   "source": [
    "#### 3.1 Population Mean $\\mu$"
   ]
  },
  {
   "cell_type": "markdown",
   "metadata": {},
   "source": [
    "$$ \\mu = \\frac{1}{N} \\sum_{i=1}^N x_{i}$$"
   ]
  },
  {
   "cell_type": "code",
   "execution_count": 36,
   "metadata": {},
   "outputs": [
    {
     "name": "stdout",
     "output_type": "stream",
     "text": [
      "Population Mean:  0.000510277348880597\n"
     ]
    }
   ],
   "source": [
    "# population mean\n",
    "N = ftse_df.shape[0]\n",
    "summation_x_i = np.sum(ftse_df.FTSE)\n",
    "population_mean = (summation_x_i * 1.0) / N\n",
    "\n",
    "print('Population Mean: ', population_mean)"
   ]
  },
  {
   "cell_type": "markdown",
   "metadata": {},
   "source": [
    "#### 3.2 Population Variance $\\sigma^{2}$"
   ]
  },
  {
   "cell_type": "markdown",
   "metadata": {},
   "source": [
    "$$ \\sigma^{2} = \\frac{1}{N} \\sum_{i=1}^N \\left( x_{i} - \\mu \\right)^{2}$$ "
   ]
  },
  {
   "cell_type": "code",
   "execution_count": 37,
   "metadata": {},
   "outputs": [
    {
     "name": "stdout",
     "output_type": "stream",
     "text": [
      "Population variance:  0.00015986764021781228\n"
     ]
    }
   ],
   "source": [
    "# population variance\n",
    "summation_sqrd = np.sum(np.square(ftse_df.FTSE - population_mean))\n",
    "population_var = (summation_sqrd * 1.0) / N\n",
    "\n",
    "print('Population variance: ', population_var)"
   ]
  },
  {
   "cell_type": "markdown",
   "metadata": {},
   "source": [
    "#### 3.3 Population Standard Deviation $\\sigma$"
   ]
  },
  {
   "cell_type": "markdown",
   "metadata": {},
   "source": [
    "$$ \\sigma = \\sqrt(\\sigma^{2}) $$"
   ]
  },
  {
   "cell_type": "code",
   "execution_count": 38,
   "metadata": {},
   "outputs": [
    {
     "name": "stdout",
     "output_type": "stream",
     "text": [
      "Population Standard Deviation:  0.01264387757840973\n"
     ]
    }
   ],
   "source": [
    "# population standard deviation\n",
    "population_std = np.sqrt(population_var)\n",
    "\n",
    "print('Population Standard Deviation: ', population_std)"
   ]
  },
  {
   "cell_type": "markdown",
   "metadata": {},
   "source": [
    "---\n",
    "Analysis:\n",
    "---"
   ]
  },
  {
   "cell_type": "markdown",
   "metadata": {},
   "source": [
    "It can be seen that population mean and population standard deviation from python source code matches the FTSE summary mean and std."
   ]
  }
 ],
 "metadata": {
  "kernelspec": {
   "display_name": "Python 3",
   "language": "python",
   "name": "python3"
  },
  "language_info": {
   "codemirror_mode": {
    "name": "ipython",
    "version": 3
   },
   "file_extension": ".py",
   "mimetype": "text/x-python",
   "name": "python",
   "nbconvert_exporter": "python",
   "pygments_lexer": "ipython3",
   "version": "3.6.5"
  }
 },
 "nbformat": 4,
 "nbformat_minor": 2
}
